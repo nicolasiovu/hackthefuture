{
  "nbformat": 4,
  "nbformat_minor": 0,
  "metadata": {
    "colab": {
      "provenance": [],
      "mount_file_id": "119ySib3zuoukjaYATIiw4LycXnel6p-S",
      "authorship_tag": "ABX9TyOgwNjlJeQmn9xS+9SFGUUE",
      "include_colab_link": true
    },
    "kernelspec": {
      "name": "python3",
      "display_name": "Python 3"
    },
    "language_info": {
      "name": "python"
    }
  },
  "cells": [
    {
      "cell_type": "markdown",
      "metadata": {
        "id": "view-in-github",
        "colab_type": "text"
      },
      "source": [
        "<a href=\"https://colab.research.google.com/github/nicolasiovu/hackthefuture/blob/gemini/HTF_Gemini_BackEnd.ipynb\" target=\"_parent\"><img src=\"https://colab.research.google.com/assets/colab-badge.svg\" alt=\"Open In Colab\"/></a>"
      ]
    },
    {
      "cell_type": "code",
      "source": [
        "%cd /content/drive/MyDrive/Colab_Notebooks/HTF_Project/hackthefuture\n",
        "!ls\n",
        "!git pull"
      ],
      "metadata": {
        "colab": {
          "base_uri": "https://localhost:8080/"
        },
        "id": "8DQxFggGBsg2",
        "outputId": "d6fec44c-2c10-486a-e444-927e9a4c0e98"
      },
      "execution_count": 1,
      "outputs": [
        {
          "output_type": "stream",
          "name": "stdout",
          "text": [
            "/content/drive/MyDrive/Colab_Notebooks/HTF_Project/hackthefuture\n",
            "backend  frontend  README.md\n",
            "Already up to date.\n"
          ]
        }
      ]
    },
    {
      "cell_type": "code",
      "source": [
        "!git checkout gemini"
      ],
      "metadata": {
        "colab": {
          "base_uri": "https://localhost:8080/"
        },
        "id": "Kk52GHSaD8s3",
        "outputId": "ce7054a6-3223-4ffc-8fdf-0ec1d4bc61e2"
      },
      "execution_count": 2,
      "outputs": [
        {
          "output_type": "stream",
          "name": "stdout",
          "text": [
            "M\tbackend/models.py\n",
            "Already on 'gemini'\n",
            "Your branch is up to date with 'origin/gemini'.\n"
          ]
        }
      ]
    },
    {
      "cell_type": "code",
      "source": [
        "!git branch -a\n",
        "!git status"
      ],
      "metadata": {
        "colab": {
          "base_uri": "https://localhost:8080/"
        },
        "id": "4bEfjG-gEFzW",
        "outputId": "fec39318-3478-4cc3-c120-4b45fe7baae1"
      },
      "execution_count": 3,
      "outputs": [
        {
          "output_type": "stream",
          "name": "stdout",
          "text": [
            "* \u001b[32mgemini\u001b[m\n",
            "  main\u001b[m\n",
            "  \u001b[31mremotes/origin/HEAD\u001b[m -> origin/main\n",
            "  \u001b[31mremotes/origin/backend\u001b[m\n",
            "  \u001b[31mremotes/origin/frontend\u001b[m\n",
            "  \u001b[31mremotes/origin/gemini\u001b[m\n",
            "  \u001b[31mremotes/origin/main\u001b[m\n",
            "  \u001b[31mremotes/origin/uifrontenddesign\u001b[m\n",
            "On branch gemini\n",
            "Your branch is up to date with 'origin/gemini'.\n",
            "\n",
            "Changes not staged for commit:\n",
            "  (use \"git add <file>...\" to update what will be committed)\n",
            "  (use \"git restore <file>...\" to discard changes in working directory)\n",
            "\t\u001b[31mmodified:   backend/models.py\u001b[m\n",
            "\n",
            "Untracked files:\n",
            "  (use \"git add <file>...\" to include in what will be committed)\n",
            "\t\u001b[31mbackend/HTF Gemini BackEnd.ipynb\u001b[m\n",
            "\t\u001b[31mbackend/__pycache__/\u001b[m\n",
            "\n",
            "no changes added to commit (use \"git add\" and/or \"git commit -a\")\n"
          ]
        }
      ]
    },
    {
      "cell_type": "code",
      "source": [
        "!cp /content/drive/MyDrive/Colab_Notebooks/HTF_Project/hackthefuture/backend/models.py /content/models.py\n",
        "!cp /content/drive/MyDrive/Colab_Notebooks/HTF_Project/hackthefuture/backend/config.py /content/config.py"
      ],
      "metadata": {
        "id": "499-YzeUadH-"
      },
      "execution_count": 10,
      "outputs": []
    },
    {
      "cell_type": "code",
      "source": [
        "!pip install flask_sqlalchemy\n",
        "!pip install flask_cors\n",
        "!pip install flask_jwt_extended\n",
        "!pip install flask_login"
      ],
      "metadata": {
        "colab": {
          "base_uri": "https://localhost:8080/"
        },
        "id": "wThZ7VDSbUd3",
        "outputId": "3ae28897-9dc2-4df6-ee5f-ec6a47c9ade6"
      },
      "execution_count": 8,
      "outputs": [
        {
          "output_type": "stream",
          "name": "stdout",
          "text": [
            "Requirement already satisfied: flask_sqlalchemy in /usr/local/lib/python3.11/dist-packages (3.1.1)\n",
            "Requirement already satisfied: flask>=2.2.5 in /usr/local/lib/python3.11/dist-packages (from flask_sqlalchemy) (3.1.0)\n",
            "Requirement already satisfied: sqlalchemy>=2.0.16 in /usr/local/lib/python3.11/dist-packages (from flask_sqlalchemy) (2.0.38)\n",
            "Requirement already satisfied: Werkzeug>=3.1 in /usr/local/lib/python3.11/dist-packages (from flask>=2.2.5->flask_sqlalchemy) (3.1.3)\n",
            "Requirement already satisfied: Jinja2>=3.1.2 in /usr/local/lib/python3.11/dist-packages (from flask>=2.2.5->flask_sqlalchemy) (3.1.5)\n",
            "Requirement already satisfied: itsdangerous>=2.2 in /usr/local/lib/python3.11/dist-packages (from flask>=2.2.5->flask_sqlalchemy) (2.2.0)\n",
            "Requirement already satisfied: click>=8.1.3 in /usr/local/lib/python3.11/dist-packages (from flask>=2.2.5->flask_sqlalchemy) (8.1.8)\n",
            "Requirement already satisfied: blinker>=1.9 in /usr/local/lib/python3.11/dist-packages (from flask>=2.2.5->flask_sqlalchemy) (1.9.0)\n",
            "Requirement already satisfied: greenlet!=0.4.17 in /usr/local/lib/python3.11/dist-packages (from sqlalchemy>=2.0.16->flask_sqlalchemy) (3.1.1)\n",
            "Requirement already satisfied: typing-extensions>=4.6.0 in /usr/local/lib/python3.11/dist-packages (from sqlalchemy>=2.0.16->flask_sqlalchemy) (4.12.2)\n",
            "Requirement already satisfied: MarkupSafe>=2.0 in /usr/local/lib/python3.11/dist-packages (from Jinja2>=3.1.2->flask>=2.2.5->flask_sqlalchemy) (3.0.2)\n",
            "Requirement already satisfied: flask_cors in /usr/local/lib/python3.11/dist-packages (5.0.1)\n",
            "Requirement already satisfied: flask>=0.9 in /usr/local/lib/python3.11/dist-packages (from flask_cors) (3.1.0)\n",
            "Requirement already satisfied: Werkzeug>=0.7 in /usr/local/lib/python3.11/dist-packages (from flask_cors) (3.1.3)\n",
            "Requirement already satisfied: Jinja2>=3.1.2 in /usr/local/lib/python3.11/dist-packages (from flask>=0.9->flask_cors) (3.1.5)\n",
            "Requirement already satisfied: itsdangerous>=2.2 in /usr/local/lib/python3.11/dist-packages (from flask>=0.9->flask_cors) (2.2.0)\n",
            "Requirement already satisfied: click>=8.1.3 in /usr/local/lib/python3.11/dist-packages (from flask>=0.9->flask_cors) (8.1.8)\n",
            "Requirement already satisfied: blinker>=1.9 in /usr/local/lib/python3.11/dist-packages (from flask>=0.9->flask_cors) (1.9.0)\n",
            "Requirement already satisfied: MarkupSafe>=2.1.1 in /usr/local/lib/python3.11/dist-packages (from Werkzeug>=0.7->flask_cors) (3.0.2)\n",
            "Requirement already satisfied: flask_jwt_extended in /usr/local/lib/python3.11/dist-packages (4.7.1)\n",
            "Requirement already satisfied: Werkzeug>=0.14 in /usr/local/lib/python3.11/dist-packages (from flask_jwt_extended) (3.1.3)\n",
            "Requirement already satisfied: Flask<4.0,>=2.0 in /usr/local/lib/python3.11/dist-packages (from flask_jwt_extended) (3.1.0)\n",
            "Requirement already satisfied: PyJWT<3.0,>=2.0 in /usr/local/lib/python3.11/dist-packages (from flask_jwt_extended) (2.10.1)\n",
            "Requirement already satisfied: Jinja2>=3.1.2 in /usr/local/lib/python3.11/dist-packages (from Flask<4.0,>=2.0->flask_jwt_extended) (3.1.5)\n",
            "Requirement already satisfied: itsdangerous>=2.2 in /usr/local/lib/python3.11/dist-packages (from Flask<4.0,>=2.0->flask_jwt_extended) (2.2.0)\n",
            "Requirement already satisfied: click>=8.1.3 in /usr/local/lib/python3.11/dist-packages (from Flask<4.0,>=2.0->flask_jwt_extended) (8.1.8)\n",
            "Requirement already satisfied: blinker>=1.9 in /usr/local/lib/python3.11/dist-packages (from Flask<4.0,>=2.0->flask_jwt_extended) (1.9.0)\n",
            "Requirement already satisfied: MarkupSafe>=2.1.1 in /usr/local/lib/python3.11/dist-packages (from Werkzeug>=0.14->flask_jwt_extended) (3.0.2)\n",
            "Collecting flask_login\n",
            "  Downloading Flask_Login-0.6.3-py3-none-any.whl.metadata (5.8 kB)\n",
            "Requirement already satisfied: Flask>=1.0.4 in /usr/local/lib/python3.11/dist-packages (from flask_login) (3.1.0)\n",
            "Requirement already satisfied: Werkzeug>=1.0.1 in /usr/local/lib/python3.11/dist-packages (from flask_login) (3.1.3)\n",
            "Requirement already satisfied: Jinja2>=3.1.2 in /usr/local/lib/python3.11/dist-packages (from Flask>=1.0.4->flask_login) (3.1.5)\n",
            "Requirement already satisfied: itsdangerous>=2.2 in /usr/local/lib/python3.11/dist-packages (from Flask>=1.0.4->flask_login) (2.2.0)\n",
            "Requirement already satisfied: click>=8.1.3 in /usr/local/lib/python3.11/dist-packages (from Flask>=1.0.4->flask_login) (8.1.8)\n",
            "Requirement already satisfied: blinker>=1.9 in /usr/local/lib/python3.11/dist-packages (from Flask>=1.0.4->flask_login) (1.9.0)\n",
            "Requirement already satisfied: MarkupSafe>=2.1.1 in /usr/local/lib/python3.11/dist-packages (from Werkzeug>=1.0.1->flask_login) (3.0.2)\n",
            "Downloading Flask_Login-0.6.3-py3-none-any.whl (17 kB)\n",
            "Installing collected packages: flask_login\n",
            "Successfully installed flask_login-0.6.3\n"
          ]
        }
      ]
    },
    {
      "cell_type": "code",
      "source": [
        "from google.colab import userdata\n",
        "from google import genai\n",
        "API_KEY = userdata.get('GeminiAPI')\n",
        "client = genai.Client(api_key=API_KEY)"
      ],
      "metadata": {
        "id": "GoLG3XDDvYhW"
      },
      "execution_count": 12,
      "outputs": []
    },
    {
      "cell_type": "code",
      "source": [
        "import time\n",
        "from flask import jsonify\n",
        "from google.genai import types\n",
        "\n",
        "def _rank_condition_vid(file_path1: str, file_path2:str=None, file_path3:str=None, file_path4:str=None):\n",
        "  file = client.files.upload(file=file_path1)\n",
        "  print(\"Please wait as we process your video\")\n",
        "  while file.state.name == \"PROCESSING\":\n",
        "    print(\".\", end=\"\")\n",
        "    time.sleep(5)\n",
        "    file = client.files.get(name=file.name)\n",
        "\n",
        "  if file.state.name == \"ERROR\" or file.state.name == \"FAILED\":\n",
        "    print(\"Error processing Video\")\n",
        "\n",
        "  system_prompt=\"\"\"\n",
        "  You are an expert product condition evaluator whose job is to evaluate a\n",
        "  returned item's condition and categorize it into one of the following: \"Like\n",
        "  New\", \"Slightly Used\", \"Used\", \"Damaged\", \"Severely Damaged\". Respond with the\n",
        "  category only and nothing else.\n",
        "  \"\"\"\n",
        "\n",
        "  MODEL_ID = \"gemini-2.0-flash\"\n",
        "  response = client.models.generate_content(\n",
        "      model=f\"models/{MODEL_ID}\",\n",
        "      contents=[\"Please evaluate the condition of this returned product and\" +\n",
        "      \"categorize it into one of the 5 specified categories.\", file],\n",
        "      config=types.GenerateContentConfig(system_instruction=system_prompt,),\n",
        "  )\n",
        "\n",
        "  condition = response.text\n",
        "\n",
        "  return {\"condition\": condition}"
      ],
      "metadata": {
        "id": "LZJkr5pSkCoM"
      },
      "execution_count": 18,
      "outputs": []
    },
    {
      "cell_type": "code",
      "source": [
        "rank_condition_vid(\"/content/HTF_gemini_test_image.jpg\")"
      ],
      "metadata": {
        "colab": {
          "base_uri": "https://localhost:8080/"
        },
        "id": "CxNQA7B7PbW0",
        "outputId": "7f5f55e1-fc57-462f-9c1a-b66e0675ebf5"
      },
      "execution_count": 28,
      "outputs": [
        {
          "output_type": "stream",
          "name": "stdout",
          "text": [
            "Please wait as we process your video\n"
          ]
        },
        {
          "output_type": "execute_result",
          "data": {
            "text/plain": [
              "{'condition': 'Severely Damaged'}"
            ]
          },
          "metadata": {},
          "execution_count": 28
        }
      ]
    },
    {
      "cell_type": "code",
      "source": [
        "from flask import jsonify\n",
        "from models import Client, Order\n",
        "def _process_return_helper(order_id, client_id, file_path1: str, file_path2:str=None,\n",
        "                   file_path3:str=None, file_path4:str=None):\n",
        "  condition = rank_condition_vid(file_path1, file_path2, file_path3, file_path4)\n",
        "  reason = Order.query.filter_by(id=order_id).first().reason\n",
        "\n",
        "  all_orders = Order.query.filter_by(client_id=client_id).all().count()\n",
        "  num_returns = Order.query.filter_by(client_id=client_id, returned=\"Yes\").all().count()\n",
        "  return_rate = num_returns/all_orders\n",
        "\n",
        "  s = \"\"\n",
        "\n",
        "  if return_rate > 0.7:\n",
        "    s=\"\"\"Return Denied: You have returned too many items recently. To prevent\n",
        "    excessive returns, we will temporarily deny return requests.\n",
        "    \"\"\"\n",
        "    return s\n",
        "  elif return_rate > 0.5:\n",
        "    s=\"\"\"Return Denied: You have returned a lot of items recently. If too many\n",
        "    items from your orders are being returned, we may deny any further returns.\n",
        "    \"\"\"\n",
        "    return s\n",
        "\n",
        "  # need to check if return is within return period outlined by client policy\n",
        "\n",
        "  if condition == \"Like New\" or condition == \"Slightly Used\":\n",
        "    if reason == \"Wrong Size\":\n",
        "      return \"Exchange\"\n",
        "    elif reason in [\"Wrong Item\", \"Item not as described\", \"Wrong Color\",\n",
        "                    \"Not Satisfied\", \"Dont Want Item Anymore\"]:\n",
        "      return \"Restock\"\n",
        "    # need to calcualte\n",
        "    elif reason in [\"Defective or Damaged\", \"Missing Parts or Accessories\"]:\n",
        "      return \"Refurbish\"\n",
        "    else:\n",
        "      return \"Refurbish\"\n",
        "  elif condition == \"Used\":\n",
        "    if reason == \"Wrong Size\":\n",
        "      return \"Exchange\"\n",
        "    elif reason in [\"Wrong Item\", \"Item not as described\", \"Wrong Color\",\n",
        "                    \"Not Satisfied\", \"Dont Want Item Anymore\"]:\n",
        "      return \"Refurbish\"\n",
        "    else:\n",
        "      return \"Refurbish\"\n",
        "  elif condition == \"Damaged\" or condition == \"Severely Damaged\":\n",
        "    # need to check if product was not damaged by user\n",
        "    if reason == \"Defective or Damaged\":\n",
        "      return \"Recycle\"\n",
        "    else:\n",
        "      return \"Denied\"\n",
        "\n"
      ],
      "metadata": {
        "id": "k6VaqLZgQPX5"
      },
      "execution_count": 19,
      "outputs": []
    },
    {
      "cell_type": "code",
      "source": [
        "from datetime import datetime\n",
        "def process_return(order_id, customer_id, file_path1: str, file_path2:str=None,\n",
        "                   file_path3:str=None, file_path4:str=None):\n",
        "  decision = _process_return_helper(order_id, customer_id, file_path1, file_path2, file_path3, file_path4)\n",
        "  if decision == \"Denied\":\n",
        "    return jsonify({\"decision\": \"Denied\"}), 404\n",
        "  else:\n",
        "    return jsonify({\"decision\": \"Approved\", \"action\": decision, \"order_id\": order_id, \"return_date\": datetime.today()}), 200\n"
      ],
      "metadata": {
        "id": "37N0FLGkbax3"
      },
      "execution_count": 20,
      "outputs": []
    },
    {
      "cell_type": "code",
      "source": [
        "!git status"
      ],
      "metadata": {
        "colab": {
          "base_uri": "https://localhost:8080/"
        },
        "id": "xzDtnBLY4DuC",
        "outputId": "34dd4416-3435-4fe1-b8aa-3ef10bced0b1"
      },
      "execution_count": 21,
      "outputs": [
        {
          "output_type": "stream",
          "name": "stdout",
          "text": [
            "On branch gemini\n",
            "Your branch is up to date with 'origin/gemini'.\n",
            "\n",
            "Changes not staged for commit:\n",
            "  (use \"git add <file>...\" to update what will be committed)\n",
            "  (use \"git restore <file>...\" to discard changes in working directory)\n",
            "\t\u001b[31mmodified:   backend/models.py\u001b[m\n",
            "\n",
            "Untracked files:\n",
            "  (use \"git add <file>...\" to include in what will be committed)\n",
            "\t\u001b[31mbackend/HTF_Gemini_BackEnd.ipynb\u001b[m\n",
            "\t\u001b[31mbackend/__pycache__/\u001b[m\n",
            "\n",
            "no changes added to commit (use \"git add\" and/or \"git commit -a\")\n"
          ]
        }
      ]
    },
    {
      "cell_type": "code",
      "source": [
        "!git config user.email \"tejovardhan.raju@gmail.com\"\n",
        "!git config user.name \"Tej79\""
      ],
      "metadata": {
        "id": "u3GXN4xc4qiQ"
      },
      "execution_count": 23,
      "outputs": []
    },
    {
      "cell_type": "code",
      "source": [
        "!git add backend/HTF_Gemini_BackEnd.ipynb\n",
        "!git commit -m \"Finished Gemini logic\""
      ],
      "metadata": {
        "colab": {
          "base_uri": "https://localhost:8080/"
        },
        "id": "vcqkqUfQ4FKM",
        "outputId": "bd31aea8-3002-4661-93c5-37e512b59b50"
      },
      "execution_count": 24,
      "outputs": [
        {
          "output_type": "stream",
          "name": "stdout",
          "text": [
            "[gemini 9b6f078] Finished Gemini logic\n",
            " 1 file changed, 1 insertion(+)\n",
            " create mode 100644 backend/HTF_Gemini_BackEnd.ipynb\n"
          ]
        }
      ]
    },
    {
      "cell_type": "code",
      "source": [
        "!git pull"
      ],
      "metadata": {
        "colab": {
          "base_uri": "https://localhost:8080/"
        },
        "id": "vRJXyKgW4nhf",
        "outputId": "139bd7d4-5d4f-4492-8227-d56fdf7fbe88"
      },
      "execution_count": 25,
      "outputs": [
        {
          "output_type": "stream",
          "name": "stdout",
          "text": [
            "remote: Enumerating objects: 41, done.\u001b[K\n",
            "remote: Counting objects:   2% (1/41)\u001b[K\rremote: Counting objects:   4% (2/41)\u001b[K\rremote: Counting objects:   7% (3/41)\u001b[K\rremote: Counting objects:   9% (4/41)\u001b[K\rremote: Counting objects:  12% (5/41)\u001b[K\rremote: Counting objects:  14% (6/41)\u001b[K\rremote: Counting objects:  17% (7/41)\u001b[K\rremote: Counting objects:  19% (8/41)\u001b[K\rremote: Counting objects:  21% (9/41)\u001b[K\rremote: Counting objects:  24% (10/41)\u001b[K\rremote: Counting objects:  26% (11/41)\u001b[K\rremote: Counting objects:  29% (12/41)\u001b[K\rremote: Counting objects:  31% (13/41)\u001b[K\rremote: Counting objects:  34% (14/41)\u001b[K\rremote: Counting objects:  36% (15/41)\u001b[K\rremote: Counting objects:  39% (16/41)\u001b[K\rremote: Counting objects:  41% (17/41)\u001b[K\rremote: Counting objects:  43% (18/41)\u001b[K\rremote: Counting objects:  46% (19/41)\u001b[K\rremote: Counting objects:  48% (20/41)\u001b[K\rremote: Counting objects:  51% (21/41)\u001b[K\rremote: Counting objects:  53% (22/41)\u001b[K\rremote: Counting objects:  56% (23/41)\u001b[K\rremote: Counting objects:  58% (24/41)\u001b[K\rremote: Counting objects:  60% (25/41)\u001b[K\rremote: Counting objects:  63% (26/41)\u001b[K\rremote: Counting objects:  65% (27/41)\u001b[K\rremote: Counting objects:  68% (28/41)\u001b[K\rremote: Counting objects:  70% (29/41)\u001b[K\rremote: Counting objects:  73% (30/41)\u001b[K\rremote: Counting objects:  75% (31/41)\u001b[K\rremote: Counting objects:  78% (32/41)\u001b[K\rremote: Counting objects:  80% (33/41)\u001b[K\rremote: Counting objects:  82% (34/41)\u001b[K\rremote: Counting objects:  85% (35/41)\u001b[K\rremote: Counting objects:  87% (36/41)\u001b[K\rremote: Counting objects:  90% (37/41)\u001b[K\rremote: Counting objects:  92% (38/41)\u001b[K\rremote: Counting objects:  95% (39/41)\u001b[K\rremote: Counting objects:  97% (40/41)\u001b[K\rremote: Counting objects: 100% (41/41)\u001b[K\rremote: Counting objects: 100% (41/41), done.\u001b[K\n",
            "remote: Compressing objects:  11% (1/9)\u001b[K\rremote: Compressing objects:  22% (2/9)\u001b[K\rremote: Compressing objects:  33% (3/9)\u001b[K\rremote: Compressing objects:  44% (4/9)\u001b[K\rremote: Compressing objects:  55% (5/9)\u001b[K\rremote: Compressing objects:  66% (6/9)\u001b[K\rremote: Compressing objects:  77% (7/9)\u001b[K\rremote: Compressing objects:  88% (8/9)\u001b[K\rremote: Compressing objects: 100% (9/9)\u001b[K\rremote: Compressing objects: 100% (9/9), done.\u001b[K\n",
            "remote: Total 23 (delta 12), reused 23 (delta 12), pack-reused 0 (from 0)\u001b[K\n",
            "Unpacking objects: 100% (23/23), 6.71 KiB | 22.00 KiB/s, done.\n",
            "From https://github.com/nicolasiovu/hackthefuture\n",
            "   38fcae0..a8c70d5  uifrontenddesign -> origin/uifrontenddesign\n",
            "Already up to date.\n"
          ]
        }
      ]
    },
    {
      "cell_type": "code",
      "source": [
        "!git push"
      ],
      "metadata": {
        "colab": {
          "base_uri": "https://localhost:8080/"
        },
        "id": "WXYaCHjK47ks",
        "outputId": "f61bbb45-4374-4d69-c6a0-6c367826966a"
      },
      "execution_count": 26,
      "outputs": [
        {
          "output_type": "stream",
          "name": "stdout",
          "text": [
            "fatal: could not read Username for 'https://github.com': No such device or address\n"
          ]
        }
      ]
    },
    {
      "cell_type": "code",
      "source": [],
      "metadata": {
        "id": "SCE4FGwJ493c"
      },
      "execution_count": null,
      "outputs": []
    }
  ]
}